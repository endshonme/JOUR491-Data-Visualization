{
 "cells": [
  {
   "cell_type": "code",
   "execution_count": 2,
   "metadata": {},
   "outputs": [
    {
     "name": "stderr",
     "output_type": "stream",
     "text": [
      "also installing the dependencies ‘extrafontdb’, ‘Rttf2pt1’, ‘gridExtra’, ‘extrafont’\n",
      "\n",
      "Updating HTML index of packages in '.Library'\n",
      "Making 'packages.html' ... done\n"
     ]
    }
   ],
   "source": [
    "# install.packages('waffle')"
   ]
  },
  {
   "cell_type": "code",
   "execution_count": 1,
   "metadata": {},
   "outputs": [
    {
     "name": "stderr",
     "output_type": "stream",
     "text": [
      "Loading required package: ggplot2\n"
     ]
    }
   ],
   "source": [
    "library(waffle)"
   ]
  },
  {
   "cell_type": "code",
   "execution_count": 2,
   "metadata": {},
   "outputs": [
    {
     "name": "stderr",
     "output_type": "stream",
     "text": [
      "\n",
      "Attaching package: ‘dplyr’\n",
      "\n",
      "The following objects are masked from ‘package:stats’:\n",
      "\n",
      "    filter, lag\n",
      "\n",
      "The following objects are masked from ‘package:base’:\n",
      "\n",
      "    intersect, setdiff, setequal, union\n",
      "\n"
     ]
    }
   ],
   "source": [
    "library(dplyr)"
   ]
  },
  {
   "cell_type": "code",
   "execution_count": 3,
   "metadata": {},
   "outputs": [],
   "source": [
    "enrollment <- read.csv(\"../../Data/collegeenrollment.csv\")"
   ]
  },
  {
   "cell_type": "code",
   "execution_count": 4,
   "metadata": {},
   "outputs": [],
   "source": [
    "jour <- filter(enrollment, MajorName == \"Journalism\")"
   ]
  },
  {
   "cell_type": "code",
   "execution_count": 5,
   "metadata": {},
   "outputs": [
    {
     "data": {
      "text/html": [
       "<table>\n",
       "<thead><tr><th scope=col>College</th><th scope=col>Degree</th><th scope=col>MajorCode</th><th scope=col>MajorName</th><th scope=col>RaceGender</th><th scope=col>Race</th><th scope=col>Gender</th><th scope=col>Count</th><th scope=col>Total</th></tr></thead>\n",
       "<tbody>\n",
       "\t<tr><td>College of Journalism &amp; Mass Comm                         </td><td>BJ                                                            </td><td>JOUR                                                          </td><td>Journalism                                                    </td><td><span style=white-space:pre-wrap>NonResidentAlienMale  </span></td><td>NonResidentAlien                                              </td><td><span style=white-space:pre-wrap>Male  </span>                </td><td>0                                                             </td><td>230                                                           </td></tr>\n",
       "\t<tr><td>College of Journalism &amp; Mass Comm</td><td>BJ                                   </td><td>JOUR                                 </td><td>Journalism                           </td><td>NonResidentAlienFemale               </td><td>NonResidentAlien                     </td><td>Female                               </td><td>4                                    </td><td>230                                  </td></tr>\n",
       "\t<tr><td>College of Journalism &amp; Mass Comm                         </td><td>BJ                                                            </td><td>JOUR                                                          </td><td>Journalism                                                    </td><td><span style=white-space:pre-wrap>HispanicMale          </span></td><td><span style=white-space:pre-wrap>Hispanic        </span>      </td><td><span style=white-space:pre-wrap>Male  </span>                </td><td>5                                                             </td><td>230                                                           </td></tr>\n",
       "\t<tr><td>College of Journalism &amp; Mass Comm                         </td><td>BJ                                                            </td><td>JOUR                                                          </td><td>Journalism                                                    </td><td><span style=white-space:pre-wrap>HispanicFemale        </span></td><td><span style=white-space:pre-wrap>Hispanic        </span>      </td><td>Female                                                        </td><td>5                                                             </td><td>230                                                           </td></tr>\n",
       "\t<tr><td>College of Journalism &amp; Mass Comm                         </td><td>BJ                                                            </td><td>JOUR                                                          </td><td>Journalism                                                    </td><td><span style=white-space:pre-wrap>AmericanIndianMale    </span></td><td><span style=white-space:pre-wrap>AmericanIndian  </span>      </td><td><span style=white-space:pre-wrap>Male  </span>                </td><td>0                                                             </td><td>230                                                           </td></tr>\n",
       "\t<tr><td>College of Journalism &amp; Mass Comm                         </td><td>BJ                                                            </td><td>JOUR                                                          </td><td>Journalism                                                    </td><td><span style=white-space:pre-wrap>AmericanIndianFemale  </span></td><td><span style=white-space:pre-wrap>AmericanIndian  </span>      </td><td>Female                                                        </td><td>0                                                             </td><td>230                                                           </td></tr>\n",
       "</tbody>\n",
       "</table>\n"
      ],
      "text/latex": [
       "\\begin{tabular}{r|lllllllll}\n",
       " College & Degree & MajorCode & MajorName & RaceGender & Race & Gender & Count & Total\\\\\n",
       "\\hline\n",
       "\t College of Journalism \\& Mass Comm & BJ                                  & JOUR                                & Journalism                          & NonResidentAlienMale                & NonResidentAlien                    & Male                                & 0                                   & 230                                \\\\\n",
       "\t College of Journalism \\& Mass Comm & BJ                                  & JOUR                                & Journalism                          & NonResidentAlienFemale              & NonResidentAlien                    & Female                              & 4                                   & 230                                \\\\\n",
       "\t College of Journalism \\& Mass Comm & BJ                                  & JOUR                                & Journalism                          & HispanicMale                        & Hispanic                            & Male                                & 5                                   & 230                                \\\\\n",
       "\t College of Journalism \\& Mass Comm & BJ                                  & JOUR                                & Journalism                          & HispanicFemale                      & Hispanic                            & Female                              & 5                                   & 230                                \\\\\n",
       "\t College of Journalism \\& Mass Comm & BJ                                  & JOUR                                & Journalism                          & AmericanIndianMale                  & AmericanIndian                      & Male                                & 0                                   & 230                                \\\\\n",
       "\t College of Journalism \\& Mass Comm & BJ                                  & JOUR                                & Journalism                          & AmericanIndianFemale                & AmericanIndian                      & Female                              & 0                                   & 230                                \\\\\n",
       "\\end{tabular}\n"
      ],
      "text/markdown": [
       "\n",
       "College | Degree | MajorCode | MajorName | RaceGender | Race | Gender | Count | Total | \n",
       "|---|---|---|---|---|---|\n",
       "| College of Journalism & Mass Comm | BJ                                | JOUR                              | Journalism                        | NonResidentAlienMale              | NonResidentAlien                  | Male                              | 0                                 | 230                               | \n",
       "| College of Journalism & Mass Comm | BJ                                | JOUR                              | Journalism                        | NonResidentAlienFemale            | NonResidentAlien                  | Female                            | 4                                 | 230                               | \n",
       "| College of Journalism & Mass Comm | BJ                                | JOUR                              | Journalism                        | HispanicMale                      | Hispanic                          | Male                              | 5                                 | 230                               | \n",
       "| College of Journalism & Mass Comm | BJ                                | JOUR                              | Journalism                        | HispanicFemale                    | Hispanic                          | Female                            | 5                                 | 230                               | \n",
       "| College of Journalism & Mass Comm | BJ                                | JOUR                              | Journalism                        | AmericanIndianMale                | AmericanIndian                    | Male                              | 0                                 | 230                               | \n",
       "| College of Journalism & Mass Comm | BJ                                | JOUR                              | Journalism                        | AmericanIndianFemale              | AmericanIndian                    | Female                            | 0                                 | 230                               | \n",
       "\n",
       "\n"
      ],
      "text/plain": [
       "  College                           Degree MajorCode MajorName \n",
       "1 College of Journalism & Mass Comm BJ     JOUR      Journalism\n",
       "2 College of Journalism & Mass Comm BJ     JOUR      Journalism\n",
       "3 College of Journalism & Mass Comm BJ     JOUR      Journalism\n",
       "4 College of Journalism & Mass Comm BJ     JOUR      Journalism\n",
       "5 College of Journalism & Mass Comm BJ     JOUR      Journalism\n",
       "6 College of Journalism & Mass Comm BJ     JOUR      Journalism\n",
       "  RaceGender             Race             Gender Count Total\n",
       "1 NonResidentAlienMale   NonResidentAlien Male   0     230  \n",
       "2 NonResidentAlienFemale NonResidentAlien Female 4     230  \n",
       "3 HispanicMale           Hispanic         Male   5     230  \n",
       "4 HispanicFemale         Hispanic         Female 5     230  \n",
       "5 AmericanIndianMale     AmericanIndian   Male   0     230  \n",
       "6 AmericanIndianFemale   AmericanIndian   Female 0     230  "
      ]
     },
     "metadata": {},
     "output_type": "display_data"
    }
   ],
   "source": [
    "head(jour)"
   ]
  },
  {
   "cell_type": "code",
   "execution_count": null,
   "metadata": {},
   "outputs": [],
   "source": []
  }
 ],
 "metadata": {
  "anaconda-cloud": {},
  "kernelspec": {
   "display_name": "R",
   "language": "R",
   "name": "ir"
  },
  "language_info": {
   "codemirror_mode": "r",
   "file_extension": ".r",
   "mimetype": "text/x-r-source",
   "name": "R",
   "pygments_lexer": "r",
   "version": "3.4.3"
  }
 },
 "nbformat": 4,
 "nbformat_minor": 1
}
